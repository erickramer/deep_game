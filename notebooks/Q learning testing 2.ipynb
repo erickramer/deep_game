{
 "cells": [
  {
   "cell_type": "code",
   "execution_count": 16,
   "metadata": {
    "collapsed": true
   },
   "outputs": [],
   "source": [
    "import os"
   ]
  },
  {
   "cell_type": "code",
   "execution_count": 17,
   "metadata": {
    "collapsed": true
   },
   "outputs": [],
   "source": [
    "os.chdir(\"..\")"
   ]
  },
  {
   "cell_type": "code",
   "execution_count": 18,
   "metadata": {
    "collapsed": false
   },
   "outputs": [],
   "source": [
    "from keras.models import Sequential\n",
    "from keras.layers import Dense, Flatten, Input, Reshape, Convolution1D\n",
    "from keras.layers.normalization import BatchNormalization\n",
    "from keras.optimizers import sgd\n",
    "from qlearning4k.games import Catch\n",
    "from qlearning4k import Agent\n",
    "from deep_game.game import DotGame, DotAgent\n",
    "from deep_game.models import Board"
   ]
  },
  {
   "cell_type": "code",
   "execution_count": 19,
   "metadata": {
    "collapsed": true
   },
   "outputs": [],
   "source": [
    "board = Board()"
   ]
  },
  {
   "cell_type": "code",
   "execution_count": 20,
   "metadata": {
    "collapsed": false
   },
   "outputs": [],
   "source": [
    "game = DotGame(board)"
   ]
  },
  {
   "cell_type": "code",
   "execution_count": 21,
   "metadata": {
    "collapsed": false
   },
   "outputs": [
    {
     "data": {
      "text/plain": [
       "(21, 2)"
      ]
     },
     "execution_count": 21,
     "metadata": {},
     "output_type": "execute_result"
    }
   ],
   "source": [
    "game.get_state().shape"
   ]
  },
  {
   "cell_type": "code",
   "execution_count": 22,
   "metadata": {
    "collapsed": false
   },
   "outputs": [],
   "source": [
    "nb_frame = 3\n",
    "hidden_size = 100\n",
    "\n",
    "model = Sequential()\n",
    "model.add(Flatten(input_shape=(3,21,2)))\n",
    "model.add(Dense(hidden_size, activation='relu', init='glorot_normal'))\n",
    "#model.add(BatchNormalization(mode=2))\n",
    "model.add(Dense(hidden_size, activation='relu', init='glorot_normal'))\n",
    "#model.add(BatchNormalization(mode=2))\n",
    "model.add(Dense(hidden_size, activation='relu', init='glorot_normal'))\n",
    "#model.add(BatchNormalization(mode=2))\n",
    "model.add(Dense(5, activation=\"linear\"))\n",
    "\n",
    "model.compile(optimizer=\"Adagrad\", loss=\"mae\")"
   ]
  },
  {
   "cell_type": "code",
   "execution_count": 23,
   "metadata": {
    "collapsed": true
   },
   "outputs": [],
   "source": [
    "agent = DotAgent(model)"
   ]
  },
  {
   "cell_type": "code",
   "execution_count": 24,
   "metadata": {
    "collapsed": false,
    "scrolled": false
   },
   "outputs": [
    {
     "name": "stdout",
     "output_type": "stream",
     "text": [
      "Epoch 050/1000 | Loss 0.3348 | Epsilon 0.91 | Win count 0\n",
      "\tScores -- Mean: 1 Median: 1 Min: 0 Max: 10\n",
      "\n",
      "Epoch 100/1000 | Loss 0.0166 | Epsilon 0.82 | Win count 0\n",
      "\tScores -- Mean: 0 Median: 0 Min: 0 Max: 5\n",
      "\n",
      "Epoch 150/1000 | Loss 0.3927 | Epsilon 0.73 | Win count 0\n",
      "\tScores -- Mean: 0 Median: 0 Min: 0 Max: 5\n",
      "\n",
      "Epoch 200/1000 | Loss 0.0655 | Epsilon 0.64 | Win count 0\n",
      "\tScores -- Mean: 0 Median: 0 Min: 0 Max: 5\n",
      "\n",
      "Epoch 250/1000 | Loss 0.0329 | Epsilon 0.55 | Win count 0\n",
      "\tScores -- Mean: 0 Median: 0 Min: 0 Max: 10\n",
      "\n",
      "Epoch 300/1000 | Loss 0.4773 | Epsilon 0.46 | Win count 0\n",
      "\tScores -- Mean: 1 Median: 1 Min: 0 Max: 8\n",
      "\n",
      "Epoch 350/1000 | Loss 0.2750 | Epsilon 0.37 | Win count 0\n",
      "\tScores -- Mean: 1 Median: 1 Min: 0 Max: 5\n",
      "\n",
      "Epoch 400/1000 | Loss 0.3827 | Epsilon 0.28 | Win count 0\n",
      "\tScores -- Mean: 0 Median: 0 Min: 0 Max: 5\n",
      "\n",
      "Epoch 450/1000 | Loss 0.0103 | Epsilon 0.19 | Win count 0\n",
      "\tScores -- Mean: 0 Median: 1 Min: 0 Max: 11\n",
      "\n",
      "Epoch 500/1000 | Loss 1.0349 | Epsilon 0.10 | Win count 0\n",
      "\tScores -- Mean: 0 Median: 0 Min: 0 Max: 6\n",
      "\n",
      "Epoch 550/1000 | Loss 0.0808 | Epsilon 0.10 | Win count 0\n",
      "\tScores -- Mean: 0 Median: 0 Min: 0 Max: 5\n",
      "\n"
     ]
    },
    {
     "ename": "KeyboardInterrupt",
     "evalue": "",
     "output_type": "error",
     "traceback": [
      "\u001b[0;31m---------------------------------------------------------------------------\u001b[0m",
      "\u001b[0;31mKeyboardInterrupt\u001b[0m                         Traceback (most recent call last)",
      "\u001b[0;32m<ipython-input-24-21f3d158691a>\u001b[0m in \u001b[0;36m<module>\u001b[0;34m()\u001b[0m\n\u001b[1;32m      1\u001b[0m \u001b[0;32mfor\u001b[0m \u001b[0m_\u001b[0m \u001b[0;32min\u001b[0m \u001b[0mrange\u001b[0m\u001b[0;34m(\u001b[0m\u001b[0;36m10\u001b[0m\u001b[0;34m)\u001b[0m\u001b[0;34m:\u001b[0m\u001b[0;34m\u001b[0m\u001b[0m\n\u001b[0;32m----> 2\u001b[0;31m     \u001b[0magent\u001b[0m\u001b[0;34m.\u001b[0m\u001b[0mtrain\u001b[0m\u001b[0;34m(\u001b[0m\u001b[0mgame\u001b[0m\u001b[0;34m,\u001b[0m \u001b[0mnb_epoch\u001b[0m\u001b[0;34m=\u001b[0m\u001b[0;36m1000\u001b[0m\u001b[0;34m,\u001b[0m \u001b[0mgamma\u001b[0m\u001b[0;34m=\u001b[0m\u001b[0;36m0.9\u001b[0m\u001b[0;34m,\u001b[0m \u001b[0mbatch_size\u001b[0m\u001b[0;34m=\u001b[0m\u001b[0;36m200\u001b[0m\u001b[0;34m)\u001b[0m\u001b[0;34m\u001b[0m\u001b[0m\n\u001b[0m",
      "\u001b[0;32mdeep_game/game.py\u001b[0m in \u001b[0;36mtrain\u001b[0;34m(self, game, nb_epoch, batch_size, gamma, epsilon, epsilon_rate, reset_memory, observe, checkpoint)\u001b[0m\n",
      "\u001b[0;32mdeep_game/game.py\u001b[0m in \u001b[0;36mplay\u001b[0;34m(self, action)\u001b[0m\n",
      "\u001b[0;32mdeep_game/models.pyc\u001b[0m in \u001b[0;36mupdate\u001b[0;34m(self, ctrls)\u001b[0m\n",
      "\u001b[0;32mdeep_game/models.pyc\u001b[0m in \u001b[0;36mupdate\u001b[0;34m(self, step)\u001b[0m\n",
      "\u001b[0;31mKeyboardInterrupt\u001b[0m: "
     ]
    }
   ],
   "source": [
    "for _ in range(10):\n",
    "    agent.train(game, nb_epoch=1000, gamma=0.9, batch_size=200)"
   ]
  },
  {
   "cell_type": "code",
   "execution_count": null,
   "metadata": {
    "collapsed": true
   },
   "outputs": [],
   "source": [
    "f = open(\"../log1\", \"w\")"
   ]
  },
  {
   "cell_type": "code",
   "execution_count": null,
   "metadata": {
    "collapsed": true
   },
   "outputs": [],
   "source": [
    "f.close()"
   ]
  },
  {
   "cell_type": "code",
   "execution_count": null,
   "metadata": {
    "collapsed": true
   },
   "outputs": [],
   "source": []
  }
 ],
 "metadata": {
  "kernelspec": {
   "display_name": "Python 2",
   "language": "python",
   "name": "python2"
  },
  "language_info": {
   "codemirror_mode": {
    "name": "ipython",
    "version": 2
   },
   "file_extension": ".py",
   "mimetype": "text/x-python",
   "name": "python",
   "nbconvert_exporter": "python",
   "pygments_lexer": "ipython2",
   "version": "2.7.10"
  }
 },
 "nbformat": 4,
 "nbformat_minor": 1
}
